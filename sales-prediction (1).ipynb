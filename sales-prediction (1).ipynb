{
 "cells": [
  {
   "cell_type": "code",
   "execution_count": 1,
   "metadata": {
    "_uuid": "d68008018678c65564ddda5994cb05129f3ca72b",
    "execution": {
     "iopub.execute_input": "2024-06-26T21:16:12.876345Z",
     "iopub.status.busy": "2024-06-26T21:16:12.875573Z",
     "iopub.status.idle": "2024-06-26T21:16:13.791351Z",
     "shell.execute_reply": "2024-06-26T21:16:13.788895Z",
     "shell.execute_reply.started": "2024-06-26T21:16:12.875897Z"
    }
   },
   "outputs": [],
   "source": [
    "import warnings\n",
    "warnings.filterwarnings('ignore')\n",
    "\n",
    "import numpy as np\n",
    "import pandas as pd\n",
    "\n",
    "import matplotlib.pyplot as plt \n",
    "import seaborn as sns"
   ]
  },
  {
   "cell_type": "code",
   "execution_count": 2,
   "metadata": {
    "_uuid": "1365d38deb407ea9c0f4e93830c5f9d4d65ebd9d",
    "execution": {
     "iopub.execute_input": "2024-06-26T21:16:13.835905Z",
     "iopub.status.busy": "2024-06-26T21:16:13.835478Z",
     "iopub.status.idle": "2024-06-26T21:16:13.919947Z",
     "shell.execute_reply": "2024-06-26T21:16:13.918695Z",
     "shell.execute_reply.started": "2024-06-26T21:16:13.835835Z"
    }
   },
   "outputs": [
    {
     "data": {
      "text/html": [
       "<div>\n",
       "<style scoped>\n",
       "    .dataframe tbody tr th:only-of-type {\n",
       "        vertical-align: middle;\n",
       "    }\n",
       "\n",
       "    .dataframe tbody tr th {\n",
       "        vertical-align: top;\n",
       "    }\n",
       "\n",
       "    .dataframe thead th {\n",
       "        text-align: right;\n",
       "    }\n",
       "</style>\n",
       "<table border=\"1\" class=\"dataframe\">\n",
       "  <thead>\n",
       "    <tr style=\"text-align: right;\">\n",
       "      <th></th>\n",
       "      <th>TV</th>\n",
       "      <th>Radio</th>\n",
       "      <th>Newspaper</th>\n",
       "      <th>Sales</th>\n",
       "    </tr>\n",
       "  </thead>\n",
       "  <tbody>\n",
       "    <tr>\n",
       "      <th>0</th>\n",
       "      <td>230.1</td>\n",
       "      <td>37.8</td>\n",
       "      <td>69.2</td>\n",
       "      <td>22.1</td>\n",
       "    </tr>\n",
       "    <tr>\n",
       "      <th>1</th>\n",
       "      <td>44.5</td>\n",
       "      <td>39.3</td>\n",
       "      <td>45.1</td>\n",
       "      <td>10.4</td>\n",
       "    </tr>\n",
       "    <tr>\n",
       "      <th>2</th>\n",
       "      <td>17.2</td>\n",
       "      <td>45.9</td>\n",
       "      <td>69.3</td>\n",
       "      <td>12.0</td>\n",
       "    </tr>\n",
       "    <tr>\n",
       "      <th>3</th>\n",
       "      <td>151.5</td>\n",
       "      <td>41.3</td>\n",
       "      <td>58.5</td>\n",
       "      <td>16.5</td>\n",
       "    </tr>\n",
       "    <tr>\n",
       "      <th>4</th>\n",
       "      <td>180.8</td>\n",
       "      <td>10.8</td>\n",
       "      <td>58.4</td>\n",
       "      <td>17.9</td>\n",
       "    </tr>\n",
       "  </tbody>\n",
       "</table>\n",
       "</div>"
      ],
      "text/plain": [
       "      TV  Radio  Newspaper  Sales\n",
       "0  230.1   37.8       69.2   22.1\n",
       "1   44.5   39.3       45.1   10.4\n",
       "2   17.2   45.9       69.3   12.0\n",
       "3  151.5   41.3       58.5   16.5\n",
       "4  180.8   10.8       58.4   17.9"
      ]
     },
     "execution_count": 2,
     "metadata": {},
     "output_type": "execute_result"
    }
   ],
   "source": [
    "advertisement = pd.DataFrame(pd.read_csv(\"../input/advertising.csv\"))\n",
    "advertisement.head()"
   ]
  },
  {
   "cell_type": "code",
   "execution_count": 3,
   "metadata": {
    "_uuid": "4f36948806d235d179b1a5c6b6c990a41afc6e4a",
    "execution": {
     "iopub.execute_input": "2024-06-26T21:16:15.435475Z",
     "iopub.status.busy": "2024-06-26T21:16:15.435135Z",
     "iopub.status.idle": "2024-06-26T21:16:15.442005Z",
     "shell.execute_reply": "2024-06-26T21:16:15.440966Z",
     "shell.execute_reply.started": "2024-06-26T21:16:15.435423Z"
    },
    "scrolled": true
   },
   "outputs": [
    {
     "data": {
      "text/plain": [
       "(200, 4)"
      ]
     },
     "execution_count": 3,
     "metadata": {},
     "output_type": "execute_result"
    }
   ],
   "source": [
    "advertisement.shape"
   ]
  },
  {
   "cell_type": "code",
   "execution_count": 4,
   "metadata": {
    "_uuid": "9578033b7d507aa4d901b48de36931066cc00241",
    "execution": {
     "iopub.execute_input": "2024-06-26T21:16:16.355283Z",
     "iopub.status.busy": "2024-06-26T21:16:16.354967Z",
     "iopub.status.idle": "2024-06-26T21:16:16.366308Z",
     "shell.execute_reply": "2024-06-26T21:16:16.365027Z",
     "shell.execute_reply.started": "2024-06-26T21:16:16.355233Z"
    }
   },
   "outputs": [
    {
     "name": "stdout",
     "output_type": "stream",
     "text": [
      "<class 'pandas.core.frame.DataFrame'>\n",
      "RangeIndex: 200 entries, 0 to 199\n",
      "Data columns (total 4 columns):\n",
      "TV           200 non-null float64\n",
      "Radio        200 non-null float64\n",
      "Newspaper    200 non-null float64\n",
      "Sales        200 non-null float64\n",
      "dtypes: float64(4)\n",
      "memory usage: 6.3 KB\n"
     ]
    }
   ],
   "source": [
    "advertisement.info()"
   ]
  },
  {
   "cell_type": "code",
   "execution_count": 5,
   "metadata": {
    "_uuid": "b817b9601c376627448453b03d79bf8f9dd02eac",
    "execution": {
     "iopub.execute_input": "2024-06-26T21:16:17.315884Z",
     "iopub.status.busy": "2024-06-26T21:16:17.315065Z",
     "iopub.status.idle": "2024-06-26T21:16:17.362960Z",
     "shell.execute_reply": "2024-06-26T21:16:17.361443Z",
     "shell.execute_reply.started": "2024-06-26T21:16:17.315709Z"
    }
   },
   "outputs": [
    {
     "data": {
      "text/html": [
       "<div>\n",
       "<style scoped>\n",
       "    .dataframe tbody tr th:only-of-type {\n",
       "        vertical-align: middle;\n",
       "    }\n",
       "\n",
       "    .dataframe tbody tr th {\n",
       "        vertical-align: top;\n",
       "    }\n",
       "\n",
       "    .dataframe thead th {\n",
       "        text-align: right;\n",
       "    }\n",
       "</style>\n",
       "<table border=\"1\" class=\"dataframe\">\n",
       "  <thead>\n",
       "    <tr style=\"text-align: right;\">\n",
       "      <th></th>\n",
       "      <th>TV</th>\n",
       "      <th>Radio</th>\n",
       "      <th>Newspaper</th>\n",
       "      <th>Sales</th>\n",
       "    </tr>\n",
       "  </thead>\n",
       "  <tbody>\n",
       "    <tr>\n",
       "      <th>count</th>\n",
       "      <td>200.000000</td>\n",
       "      <td>200.000000</td>\n",
       "      <td>200.000000</td>\n",
       "      <td>200.000000</td>\n",
       "    </tr>\n",
       "    <tr>\n",
       "      <th>mean</th>\n",
       "      <td>147.042500</td>\n",
       "      <td>23.264000</td>\n",
       "      <td>30.554000</td>\n",
       "      <td>15.130500</td>\n",
       "    </tr>\n",
       "    <tr>\n",
       "      <th>std</th>\n",
       "      <td>85.854236</td>\n",
       "      <td>14.846809</td>\n",
       "      <td>21.778621</td>\n",
       "      <td>5.283892</td>\n",
       "    </tr>\n",
       "    <tr>\n",
       "      <th>min</th>\n",
       "      <td>0.700000</td>\n",
       "      <td>0.000000</td>\n",
       "      <td>0.300000</td>\n",
       "      <td>1.600000</td>\n",
       "    </tr>\n",
       "    <tr>\n",
       "      <th>25%</th>\n",
       "      <td>74.375000</td>\n",
       "      <td>9.975000</td>\n",
       "      <td>12.750000</td>\n",
       "      <td>11.000000</td>\n",
       "    </tr>\n",
       "    <tr>\n",
       "      <th>50%</th>\n",
       "      <td>149.750000</td>\n",
       "      <td>22.900000</td>\n",
       "      <td>25.750000</td>\n",
       "      <td>16.000000</td>\n",
       "    </tr>\n",
       "    <tr>\n",
       "      <th>75%</th>\n",
       "      <td>218.825000</td>\n",
       "      <td>36.525000</td>\n",
       "      <td>45.100000</td>\n",
       "      <td>19.050000</td>\n",
       "    </tr>\n",
       "    <tr>\n",
       "      <th>max</th>\n",
       "      <td>296.400000</td>\n",
       "      <td>49.600000</td>\n",
       "      <td>114.000000</td>\n",
       "      <td>27.000000</td>\n",
       "    </tr>\n",
       "  </tbody>\n",
       "</table>\n",
       "</div>"
      ],
      "text/plain": [
       "               TV       Radio   Newspaper       Sales\n",
       "count  200.000000  200.000000  200.000000  200.000000\n",
       "mean   147.042500   23.264000   30.554000   15.130500\n",
       "std     85.854236   14.846809   21.778621    5.283892\n",
       "min      0.700000    0.000000    0.300000    1.600000\n",
       "25%     74.375000    9.975000   12.750000   11.000000\n",
       "50%    149.750000   22.900000   25.750000   16.000000\n",
       "75%    218.825000   36.525000   45.100000   19.050000\n",
       "max    296.400000   49.600000  114.000000   27.000000"
      ]
     },
     "execution_count": 5,
     "metadata": {},
     "output_type": "execute_result"
    }
   ],
   "source": [
    "advertisement.describe()"
   ]
  },
  {
   "cell_type": "code",
   "execution_count": 6,
   "metadata": {
    "_uuid": "cf9580e58b78c0558d96f54272701b6d2d32a018",
    "execution": {
     "iopub.execute_input": "2024-06-26T21:16:17.960468Z",
     "iopub.status.busy": "2024-06-26T21:16:17.960130Z",
     "iopub.status.idle": "2024-06-26T21:16:18.076599Z",
     "shell.execute_reply": "2024-06-26T21:16:18.075545Z",
     "shell.execute_reply.started": "2024-06-26T21:16:17.960414Z"
    }
   },
   "outputs": [
    {
     "data": {
      "text/plain": [
       "TV           0.0\n",
       "Radio        0.0\n",
       "Newspaper    0.0\n",
       "Sales        0.0\n",
       "dtype: float64"
      ]
     },
     "execution_count": 6,
     "metadata": {},
     "output_type": "execute_result"
    }
   ],
   "source": [
    "advertisement.isnull().sum()*100/advertisement.shape[0]"
   ]
  },
  {
   "cell_type": "code",
   "execution_count": 7,
   "metadata": {
    "_uuid": "c427a8e8a84e617eccdeda7df5eccd25f740f25d",
    "execution": {
     "iopub.execute_input": "2024-06-26T21:16:18.675669Z",
     "iopub.status.busy": "2024-06-26T21:16:18.675202Z",
     "iopub.status.idle": "2024-06-26T21:16:19.349577Z",
     "shell.execute_reply": "2024-06-26T21:16:19.348180Z",
     "shell.execute_reply.started": "2024-06-26T21:16:18.675572Z"
    }
   },
   "outputs": [
    {
     "data": {
      "image/png": "[encoded data removed]",
      "text/plain": [
       "<Figure size 360x360 with 3 Axes>"
      ]
     },
     "metadata": {},
     "output_type": "display_data"
    }
   ],
   "source": [
    "fig, axs = plt.subplots(3, figsize = (5,5))\n",
    "plt1 = sns.boxplot(advertisement['TV'], ax = axs[0])\n",
    "plt2 = sns.boxplot(advertisement['Newspaper'], ax = axs[1])\n",
    "plt3 = sns.boxplot(advertisement['Radio'], ax = axs[2])\n",
    "plt.tight_layout()"
   ]
  },
  {
   "cell_type": "code",
   "execution_count": 8,
   "metadata": {
    "_uuid": "d435bd318677f7a4234bf02efdf54aa19e8b2c16",
    "execution": {
     "iopub.execute_input": "2024-06-26T21:16:20.325679Z",
     "iopub.status.busy": "2024-06-26T21:16:20.325299Z",
     "iopub.status.idle": "2024-06-26T21:16:20.614047Z",
     "shell.execute_reply": "2024-06-26T21:16:20.612474Z",
     "shell.execute_reply.started": "2024-06-26T21:16:20.325597Z"
    }
   },
   "outputs": [
    {
     "data": {
      "image/png": "[encoded data removed]",
      "text/plain": [
       "<Figure size 432x288 with 1 Axes>"
      ]
     },
     "metadata": {},
     "output_type": "display_data"
    }
   ],
   "source": [
    "sns.boxplot(advertisement['Sales'])\n",
    "plt.show()"
   ]
  },
  {
   "cell_type": "code",
   "execution_count": 9,
   "metadata": {
    "_uuid": "2d6f716ebe182a58f9941c059256a09cc7f03703",
    "execution": {
     "iopub.execute_input": "2024-06-26T21:16:21.315971Z",
     "iopub.status.busy": "2024-06-26T21:16:21.315603Z",
     "iopub.status.idle": "2024-06-26T21:16:22.161441Z",
     "shell.execute_reply": "2024-06-26T21:16:22.160374Z",
     "shell.execute_reply.started": "2024-06-26T21:16:21.315919Z"
    }
   },
   "outputs": [
    {
     "data": {
      "image/png": "[encoded data removed]",
      "text/plain": [
       "<Figure size 864x288 with 3 Axes>"
      ]
     },
     "metadata": {},
     "output_type": "display_data"
    }
   ],
   "source": [
    "sns.pairplot(advertisement, x_vars=['TV', 'Newspaper', 'Radio'], y_vars='Sales', height=4, aspect=1, kind='scatter')\n",
    "plt.show()"
   ]
  },
  {
   "cell_type": "code",
   "execution_count": 10,
   "metadata": {
    "_uuid": "ea27ea99e47d578866a706f437d74a8fe1ad2264",
    "execution": {
     "iopub.execute_input": "2024-06-26T21:16:23.560461Z",
     "iopub.status.busy": "2024-06-26T21:16:23.560135Z",
     "iopub.status.idle": "2024-06-26T21:16:23.806868Z",
     "shell.execute_reply": "2024-06-26T21:16:23.804701Z",
     "shell.execute_reply.started": "2024-06-26T21:16:23.560411Z"
    }
   },
   "outputs": [
    {
     "data": {
      "image/png": "[encoded data removed]",
      "text/plain": [
       "<Figure size 432x288 with 2 Axes>"
      ]
     },
     "metadata": {},
     "output_type": "display_data"
    }
   ],
   "source": [
    "sns.heatmap(advertisement.corr(), cmap=\"coolwarm\", annot=True)\n",
    "plt.show()\n"
   ]
  },
  {
   "cell_type": "code",
   "execution_count": 11,
   "metadata": {
    "_uuid": "ae7285c79fd678fad0ee4fb18f8923daf024838b",
    "execution": {
     "iopub.execute_input": "2024-06-26T21:17:53.210671Z",
     "iopub.status.busy": "2024-06-26T21:17:53.210305Z",
     "iopub.status.idle": "2024-06-26T21:17:53.215347Z",
     "shell.execute_reply": "2024-06-26T21:17:53.214326Z",
     "shell.execute_reply.started": "2024-06-26T21:17:53.210605Z"
    }
   },
   "outputs": [],
   "source": [
    "X = advertisement['TV']\n",
    "Y = advertisement['Sales']"
   ]
  },
  {
   "cell_type": "code",
   "execution_count": 12,
   "metadata": {
    "_uuid": "997311202075aaa98631ef95c1a0d91cdbefa2af",
    "execution": {
     "iopub.execute_input": "2024-06-26T21:17:54.115814Z",
     "iopub.status.busy": "2024-06-26T21:17:54.115437Z",
     "iopub.status.idle": "2024-06-26T21:17:54.506494Z",
     "shell.execute_reply": "2024-06-26T21:17:54.505391Z",
     "shell.execute_reply.started": "2024-06-26T21:17:54.115760Z"
    }
   },
   "outputs": [],
   "source": [
    "from sklearn.model_selection import train_test_split\n",
    "X_train, X_test, Y_train, Y_test = train_test_split(X, Y, train_size = 0.7, test_size = 0.3, random_state = 100)"
   ]
  },
  {
   "cell_type": "code",
   "execution_count": 13,
   "metadata": {
    "_uuid": "07e568ebfdb6c838568e2df3dfd5fd0acadc7184",
    "execution": {
     "iopub.execute_input": "2024-06-26T21:17:57.360292Z",
     "iopub.status.busy": "2024-06-26T21:17:57.359967Z",
     "iopub.status.idle": "2024-06-26T21:17:57.368750Z",
     "shell.execute_reply": "2024-06-26T21:17:57.367525Z",
     "shell.execute_reply.started": "2024-06-26T21:17:57.360243Z"
    }
   },
   "outputs": [
    {
     "data": {
      "text/plain": [
       "74     213.4\n",
       "3      151.5\n",
       "185    205.0\n",
       "26     142.9\n",
       "90     134.3\n",
       "Name: TV, dtype: float64"
      ]
     },
     "execution_count": 13,
     "metadata": {},
     "output_type": "execute_result"
    }
   ],
   "source": [
    "X_train.head()"
   ]
  },
  {
   "cell_type": "code",
   "execution_count": 14,
   "metadata": {
    "_uuid": "873156cc1e983a63bfea8b5947bfb91e6992a7f5",
    "execution": {
     "iopub.execute_input": "2024-06-26T21:18:03.866015Z",
     "iopub.status.busy": "2024-06-26T21:18:03.865593Z",
     "iopub.status.idle": "2024-06-26T21:18:03.874244Z",
     "shell.execute_reply": "2024-06-26T21:18:03.872904Z",
     "shell.execute_reply.started": "2024-06-26T21:18:03.865946Z"
    }
   },
   "outputs": [
    {
     "data": {
      "text/plain": [
       "74     17.0\n",
       "3      16.5\n",
       "185    22.6\n",
       "26     15.0\n",
       "90     14.0\n",
       "Name: Sales, dtype: float64"
      ]
     },
     "execution_count": 14,
     "metadata": {},
     "output_type": "execute_result"
    }
   ],
   "source": [
    "Y_train.head()"
   ]
  },
  {
   "cell_type": "code",
   "execution_count": 15,
   "metadata": {
    "_uuid": "226e3704ff6b78a47273fd816009f9c30b8f0a81",
    "execution": {
     "iopub.execute_input": "2024-06-26T21:18:06.395826Z",
     "iopub.status.busy": "2024-06-26T21:18:06.395471Z",
     "iopub.status.idle": "2024-06-26T21:18:06.973471Z",
     "shell.execute_reply": "2024-06-26T21:18:06.972488Z",
     "shell.execute_reply.started": "2024-06-26T21:18:06.395771Z"
    }
   },
   "outputs": [],
   "source": [
    "import statsmodels.api as sm"
   ]
  },
  {
   "cell_type": "code",
   "execution_count": 16,
   "metadata": {
    "_uuid": "b80a766082e6c9c40c3f09499fec4cfc51f62763",
    "execution": {
     "iopub.execute_input": "2024-06-26T21:18:26.156185Z",
     "iopub.status.busy": "2024-06-26T21:18:26.155805Z",
     "iopub.status.idle": "2024-06-26T21:18:26.167849Z",
     "shell.execute_reply": "2024-06-26T21:18:26.166586Z",
     "shell.execute_reply.started": "2024-06-26T21:18:26.156128Z"
    }
   },
   "outputs": [],
   "source": [
    "X_train_sm = sm.add_constant(X_train)\n",
    "\n",
    "rt = sm.OLS(Y_train, X_train_sm).fit()"
   ]
  },
  {
   "cell_type": "code",
   "execution_count": 17,
   "metadata": {
    "_uuid": "fd4287b550d2f05555ae3e18d6f497912424f8cf",
    "execution": {
     "iopub.execute_input": "2024-06-26T21:18:30.200797Z",
     "iopub.status.busy": "2024-06-26T21:18:30.200375Z",
     "iopub.status.idle": "2024-06-26T21:18:30.209026Z",
     "shell.execute_reply": "2024-06-26T21:18:30.208102Z",
     "shell.execute_reply.started": "2024-06-26T21:18:30.200728Z"
    }
   },
   "outputs": [
    {
     "data": {
      "text/plain": [
       "const    6.948683\n",
       "TV       0.054546\n",
       "dtype: float64"
      ]
     },
     "execution_count": 17,
     "metadata": {},
     "output_type": "execute_result"
    }
   ],
   "source": [
    "rt.params"
   ]
  },
  {
   "cell_type": "code",
   "execution_count": 18,
   "metadata": {
    "_uuid": "f841995801587a25a9b4c4b77ef396e538e9ad1f",
    "execution": {
     "iopub.execute_input": "2024-06-26T21:18:34.525291Z",
     "iopub.status.busy": "2024-06-26T21:18:34.524962Z",
     "iopub.status.idle": "2024-06-26T21:18:34.545756Z",
     "shell.execute_reply": "2024-06-26T21:18:34.544546Z",
     "shell.execute_reply.started": "2024-06-26T21:18:34.525240Z"
    }
   },
   "outputs": [
    {
     "name": "stdout",
     "output_type": "stream",
     "text": [
      "                            OLS Regression Results                            \n",
      "==============================================================================\n",
      "Dep. Variable:                  Sales   R-squared:                       0.816\n",
      "Model:                            OLS   Adj. R-squared:                  0.814\n",
      "Method:                 Least Squares   F-statistic:                     611.2\n",
      "Date:                Wed, 26 Jun 2024   Prob (F-statistic):           1.52e-52\n",
      "Time:                        21:20:39   Log-Likelihood:                -321.12\n",
      "No. Observations:                 140   AIC:                             646.2\n",
      "Df Residuals:                     138   BIC:                             652.1\n",
      "Df Model:                           1                                         \n",
      "Covariance Type:            nonrobust                                         \n",
      "==============================================================================\n",
      "                 coef    std err          t      P>|t|      [0.025      0.975]\n",
      "------------------------------------------------------------------------------\n",
      "const          6.9487      0.385     18.068      0.000       6.188       7.709\n",
      "TV             0.0545      0.002     24.722      0.000       0.050       0.059\n",
      "==============================================================================\n",
      "Omnibus:                        0.027   Durbin-Watson:                   2.196\n",
      "Prob(Omnibus):                  0.987   Jarque-Bera (JB):                0.150\n",
      "Skew:                          -0.006   Prob(JB):                        0.928\n",
      "Kurtosis:                       2.840   Cond. No.                         328.\n",
      "==============================================================================\n",
      "\n",
      "Warnings:\n",
      "[1] Standard Errors assume that the covariance matrix of the errors is correctly specified.\n"
     ]
    }
   ],
   "source": [
    "print(rt.summary())"
   ]
  },
  {
   "cell_type": "code",
   "execution_count": 19,
   "metadata": {
    "_uuid": "6e0dc97a88b9fc1d4e975c2fe511e59bd0cd2b8a",
    "execution": {
     "iopub.execute_input": "2024-06-26T21:18:44.475983Z",
     "iopub.status.busy": "2024-06-26T21:18:44.475604Z",
     "iopub.status.idle": "2024-06-26T21:18:44.776791Z",
     "shell.execute_reply": "2024-06-26T21:18:44.774454Z",
     "shell.execute_reply.started": "2024-06-26T21:18:44.475926Z"
    },
    "scrolled": true
   },
   "outputs": [
    {
     "data": {
      "image/png": "[encoded data removed]",
      "text/plain": [
       "<Figure size 432x288 with 1 Axes>"
      ]
     },
     "metadata": {},
     "output_type": "display_data"
    }
   ],
   "source": [
    "plt.scatter(X_train, Y_train)\n",
    "plt.plot(X_train, 6.948 + 0.054*X_train, 'r')\n",
    "plt.show()"
   ]
  },
  {
   "cell_type": "code",
   "execution_count": 20,
   "metadata": {
    "_uuid": "4dd8f2238cf72ced822605fc50ceedc3451ef5af",
    "execution": {
     "iopub.execute_input": "2024-06-26T21:18:58.956480Z",
     "iopub.status.busy": "2024-06-26T21:18:58.956138Z",
     "iopub.status.idle": "2024-06-26T21:18:58.962303Z",
     "shell.execute_reply": "2024-06-26T21:18:58.960947Z",
     "shell.execute_reply.started": "2024-06-26T21:18:58.956429Z"
    }
   },
   "outputs": [],
   "source": [
    "Y_train_pred = rt.predict(X_train_sm)\n",
    "res = (Y_train - Y_train_pred)"
   ]
  },
  {
   "cell_type": "code",
   "execution_count": 21,
   "metadata": {
    "_uuid": "14e47df1dd16feb210ba45abe9bd16e583dacd88",
    "execution": {
     "iopub.execute_input": "2024-06-26T21:19:17.436224Z",
     "iopub.status.busy": "2024-06-26T21:19:17.435840Z",
     "iopub.status.idle": "2024-06-26T21:19:17.759343Z",
     "shell.execute_reply": "2024-06-26T21:19:17.757296Z",
     "shell.execute_reply.started": "2024-06-26T21:19:17.436151Z"
    },
    "scrolled": true
   },
   "outputs": [
    {
     "data": {
      "image/png": "[encoded data removed]",
      "text/plain": [
       "<Figure size 432x288 with 1 Axes>"
      ]
     },
     "metadata": {},
     "output_type": "display_data"
    }
   ],
   "source": [
    "fig = plt.figure()\n",
    "sns.distplot(res, bins = 15)\n",
    "fig.suptitle('Error Terms', fontsize = 15) \n",
    "plt.xlabel('Y_train - Y_train_pred', fontsize = 15)      \n",
    "plt.show()"
   ]
  },
  {
   "cell_type": "code",
   "execution_count": 22,
   "metadata": {
    "_uuid": "9273cbc44826c16c959a63707862371c9ff4301d",
    "execution": {
     "iopub.execute_input": "2024-06-26T21:19:21.315354Z",
     "iopub.status.busy": "2024-06-26T21:19:21.314981Z",
     "iopub.status.idle": "2024-06-26T21:19:21.471259Z",
     "shell.execute_reply": "2024-06-26T21:19:21.469650Z",
     "shell.execute_reply.started": "2024-06-26T21:19:21.315284Z"
    }
   },
   "outputs": [
    {
     "data": {
      "image/png": "[encoded data removed]",
      "text/plain": [
       "<Figure size 432x288 with 1 Axes>"
      ]
     },
     "metadata": {},
     "output_type": "display_data"
    }
   ],
   "source": [
    "plt.scatter(X_train,res)\n",
    "plt.show()"
   ]
  },
  {
   "cell_type": "code",
   "execution_count": 23,
   "metadata": {
    "_uuid": "f0bed7ce820292dceee1c3b00b9ecbcb9fdbbd37",
    "execution": {
     "iopub.execute_input": "2024-06-26T21:19:29.835939Z",
     "iopub.status.busy": "2024-06-26T21:19:29.835546Z",
     "iopub.status.idle": "2024-06-26T21:19:29.846049Z",
     "shell.execute_reply": "2024-06-26T21:19:29.844914Z",
     "shell.execute_reply.started": "2024-06-26T21:19:29.835868Z"
    }
   },
   "outputs": [],
   "source": [
    "X_test_sm = sm.add_constant(X_test)\n",
    "\n",
    "Y_pred = rt.predict(X_test_sm)"
   ]
  },
  {
   "cell_type": "code",
   "execution_count": 24,
   "metadata": {
    "_uuid": "0b64c5e3173c685b0715a93f0a77c759e90b2dff",
    "execution": {
     "iopub.execute_input": "2024-06-26T21:19:33.320556Z",
     "iopub.status.busy": "2024-06-26T21:19:33.320157Z",
     "iopub.status.idle": "2024-06-26T21:19:33.328507Z",
     "shell.execute_reply": "2024-06-26T21:19:33.327458Z",
     "shell.execute_reply.started": "2024-06-26T21:19:33.320492Z"
    }
   },
   "outputs": [
    {
     "data": {
      "text/plain": [
       "126     7.374140\n",
       "104    19.941482\n",
       "99     14.323269\n",
       "92     18.823294\n",
       "111    20.132392\n",
       "dtype: float64"
      ]
     },
     "execution_count": 24,
     "metadata": {},
     "output_type": "execute_result"
    }
   ],
   "source": [
    "Y_pred.head()"
   ]
  },
  {
   "cell_type": "code",
   "execution_count": 25,
   "metadata": {
    "_uuid": "f67e3bf11f1ab0670339d4496a4b42df11d1b0cf",
    "execution": {
     "iopub.execute_input": "2024-06-26T21:19:49.796262Z",
     "iopub.status.busy": "2024-06-26T21:19:49.795747Z",
     "iopub.status.idle": "2024-06-26T21:19:49.800991Z",
     "shell.execute_reply": "2024-06-26T21:19:49.799751Z",
     "shell.execute_reply.started": "2024-06-26T21:19:49.796172Z"
    }
   },
   "outputs": [],
   "source": [
    "from sklearn.metrics import r2_score\n",
    "from sklearn.metrics import mean_squared_error"
   ]
  },
  {
   "cell_type": "code",
   "execution_count": 26,
   "metadata": {
    "_uuid": "58863bc73dfa751e6bade66b3b71f80be51d9ca6",
    "execution": {
     "iopub.execute_input": "2024-06-26T21:19:56.321120Z",
     "iopub.status.busy": "2024-06-26T21:19:56.320742Z",
     "iopub.status.idle": "2024-06-26T21:19:56.329144Z",
     "shell.execute_reply": "2024-06-26T21:19:56.327752Z",
     "shell.execute_reply.started": "2024-06-26T21:19:56.321050Z"
    }
   },
   "outputs": [
    {
     "data": {
      "text/plain": [
       "2.019296008966232"
      ]
     },
     "execution_count": 26,
     "metadata": {},
     "output_type": "execute_result"
    }
   ],
   "source": [
    "np.sqrt(mean_squared_error(Y_test, Y_pred))"
   ]
  },
  {
   "cell_type": "markdown",
   "metadata": {
    "_uuid": "ab9e84c7ccf6d83fd215ba8771cb0243a59bc88e"
   },
   "source": [
    "###### Checking the R-squared on the test set"
   ]
  },
  {
   "cell_type": "code",
   "execution_count": 27,
   "metadata": {
    "_uuid": "6ce19fc28741a4d2b558a377f2fd39c81abdb72e",
    "execution": {
     "iopub.execute_input": "2024-06-26T21:20:03.121012Z",
     "iopub.status.busy": "2024-06-26T21:20:03.120665Z",
     "iopub.status.idle": "2024-06-26T21:20:03.128587Z",
     "shell.execute_reply": "2024-06-26T21:20:03.127425Z",
     "shell.execute_reply.started": "2024-06-26T21:20:03.120956Z"
    }
   },
   "outputs": [
    {
     "data": {
      "text/plain": [
       "0.792103160124566"
      ]
     },
     "execution_count": 27,
     "metadata": {},
     "output_type": "execute_result"
    }
   ],
   "source": [
    "r_squared = r2_score(Y_test, Y_pred)\n",
    "r_squared"
   ]
  },
  {
   "cell_type": "code",
   "execution_count": 28,
   "metadata": {
    "_uuid": "eb08ac34d4e148e3221adfe126072f108adbfa24",
    "execution": {
     "iopub.execute_input": "2024-06-26T21:20:07.676205Z",
     "iopub.status.busy": "2024-06-26T21:20:07.675762Z",
     "iopub.status.idle": "2024-06-26T21:20:07.968862Z",
     "shell.execute_reply": "2024-06-26T21:20:07.967501Z",
     "shell.execute_reply.started": "2024-06-26T21:20:07.676123Z"
    },
    "scrolled": true
   },
   "outputs": [
    {
     "data": {
      "image/png": "[encoded data removed]",
      "text/plain": [
       "<Figure size 432x288 with 1 Axes>"
      ]
     },
     "metadata": {},
     "output_type": "display_data"
    }
   ],
   "source": [
    "plt.scatter(X_test, Y_test)\n",
    "plt.plot(X_test, 6.948 + 0.054 * X_test, 'r')\n",
    "plt.show()"
   ]
  },
  {
   "cell_type": "code",
   "execution_count": 29,
   "metadata": {},
   "outputs": [],
   "source": []
  }
 ],
 "metadata": {
  "kaggle": {
   "accelerator": "none",
   "dataSources": [
    {
     "datasetId": 133357,
     "sourceId": 317184,
     "sourceType": "datasetVersion"
    }
   ],
   "dockerImageVersionId": 22192,
   "isGpuEnabled": false,
   "isInternetEnabled": false,
   "language": "python",
   "sourceType": "notebook"
  },
  "kernelspec": {
   "display_name": "Python 3",
   "language": "python",
   "name": "python3"
  },
  "language_info": {
   "codemirror_mode": {
    "name": "ipython",
    "version": 3
   },
   "file_extension": ".py",
   "mimetype": "text/x-python",
   "name": "python",
   "nbconvert_exporter": "python",
   "pygments_lexer": "ipython3",
   "version": "3.6.6"
  }
 },
 "nbformat": 4,
 "nbformat_minor": 4
}
